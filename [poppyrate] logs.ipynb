{
 "cells": [
  {
   "cell_type": "code",
   "execution_count": null,
   "metadata": {
    "collapsed": true
   },
   "outputs": [],
   "source": []
  },
  {
   "cell_type": "code",
   "execution_count": 1,
   "metadata": {
    "collapsed": false,
    "scrolled": false
   },
   "outputs": [],
   "source": [
    "%alias show_logs tail -F %s"
   ]
  },
  {
   "cell_type": "code",
   "execution_count": null,
   "metadata": {
    "collapsed": false,
    "scrolled": false
   },
   "outputs": [
    {
     "name": "stdout",
     "output_type": "stream",
     "text": [
      "\u001b[1;30m2015-04-28 09:29:46,588 \u001b[0;33mINFO \u001b[1;32mThread-6 \u001b[0mprimitive:61   \u001b[0mPrimitive <poppy_humanoid.primitives.posture.StandPosition object at 0x7f00043e4c90> setup.\u001b[0m\r\n",
      "\u001b[1;30m2015-04-28 09:29:47,090 \u001b[0;33mINFO \u001b[1;32mMainThread \u001b[0mprimitive:120  \u001b[0mPrimitive <poppy_humanoid.primitives.posture.StandPosition object at 0x7f00043e4c90> started.\u001b[0m\r\n",
      "\u001b[1;30m2015-04-28 09:29:50,622 \u001b[0;33mINFO \u001b[1;32mThread-47 \u001b[0mprimitive:61   \u001b[0mPrimitive <poppy_rate.primitives.behaviour.SayHello object at 0x7f000430d150> setup.\u001b[0m\r\n",
      "\u001b[1;30m2015-04-28 09:29:50,623 \u001b[0;33mINFO \u001b[1;32mMainThread \u001b[0mprimitive:120  \u001b[0mPrimitive <poppy_rate.primitives.behaviour.SayHello object at 0x7f000430d150> started.\u001b[0m\r\n",
      "\u001b[1;30m2015-04-28 09:29:52,099 \u001b[0;33mINFO \u001b[1;32mThread-6 \u001b[0mprimitive:88   \u001b[0mPrimitive <poppy_humanoid.primitives.posture.StandPosition object at 0x7f00043e4c90> teardown.\u001b[0m\r\n",
      "\u001b[1;30m2015-04-28 09:30:03,095 \u001b[0;33mINFO \u001b[1;32mThread-47 \u001b[0mprimitive:88   \u001b[0mPrimitive <poppy_rate.primitives.behaviour.SayHello object at 0x7f000430d150> teardown.\u001b[0m\r\n",
      "\u001b[1;30m2015-04-28 09:30:06,010 \u001b[0;33mWARNING \u001b[1;32mMainThread \u001b[0mwsgi:355  \u001b[0m404 POST /collector (127.0.0.1) 8.62ms\u001b[0m\r\n",
      "\u001b[1;30m2015-04-28 09:30:11,143 \u001b[0;33mWARNING \u001b[1;32mMainThread \u001b[0mwsgi:355  \u001b[0m404 POST /collector (127.0.0.1) 1.40ms\u001b[0m\r\n",
      "\u001b[1;30m2015-04-28 09:30:34,265 \u001b[0;33mINFO \u001b[1;32mMainThread \u001b[0mprimitive:124  \u001b[0mPrimitive <poppy_humanoid.primitives.safe.TemperatureMonitor object at 0x7f000437cad0> stopped.\u001b[0m\r\n",
      "\u001b[1;30m2015-04-28 09:30:35,094 \u001b[0;33mINFO \u001b[1;32mThread-5 \u001b[0mprimitive:88   \u001b[0mPrimitive <poppy_humanoid.primitives.safe.TemperatureMonitor object at 0x7f000437cad0> teardown.\u001b[0m\r\n"
     ]
    }
   ],
   "source": [
    "show_logs \"logs/poppyrate.log\""
   ]
  }
 ],
 "metadata": {
  "kernelspec": {
   "display_name": "Python 2",
   "language": "python",
   "name": "python2"
  },
  "language_info": {
   "codemirror_mode": {
    "name": "ipython",
    "version": 2
   },
   "file_extension": ".py",
   "mimetype": "text/x-python",
   "name": "python",
   "nbconvert_exporter": "python",
   "pygments_lexer": "ipython2",
   "version": "2.7.6"
  }
 },
 "nbformat": 4,
 "nbformat_minor": 0
}
