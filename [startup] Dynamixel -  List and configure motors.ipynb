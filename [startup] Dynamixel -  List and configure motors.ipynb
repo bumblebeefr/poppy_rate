{
 "cells": [
  {
   "cell_type": "code",
   "execution_count": 8,
   "metadata": {
    "collapsed": true
   },
   "outputs": [],
   "source": [
    "import pypot.dynamixel\n",
    "import time"
   ]
  },
  {
   "cell_type": "markdown",
   "metadata": {},
   "source": [
    "##Scan et affiche l'id de tous le smoteurs connectés\n",
    " ⇒ [Documentation pypot.Dynamixel de connection aux moteurs](https://poppy-project.github.io/pypot/dynamixel.html#opening-closing-a-communication-port)"
   ]
  },
  {
   "cell_type": "code",
   "execution_count": 27,
   "metadata": {
    "collapsed": false
   },
   "outputs": [
    {
     "name": "stdout",
     "output_type": "stream",
     "text": [
      "Ports founds ['/dev/ttyACM0']\n",
      "('Connecting on port:', '/dev/ttyACM0')\n",
      " 1 motors founds : [14]\n",
      "\n"
     ]
    }
   ],
   "source": [
    "ports = pypot.dynamixel.get_available_ports()\n",
    "if not ports:\n",
    "    raise IOError('no port found!')\n",
    "\n",
    "print \"Ports founds %s\" % ports\n",
    "\n",
    "for port in ports:\n",
    "    print('Connecting on port:', port)\n",
    "    dxl_io = pypot.dynamixel.DxlIO(port)\n",
    "    \n",
    "    motors = dxl_io.scan()\n",
    "    print(\" %s motors founds : %s\\n\" % (len(motors),motors))\n",
    "    \n",
    "    dxl_io.close()"
   ]
  },
  {
   "cell_type": "markdown",
   "metadata": {},
   "source": [
    "## Remise à zero(angle) Affichage et changement de l'id d'un moteur.\n",
    "\n",
    " ⇒ [Autre script de reset \"brutal\" de l'id et bitrate](https://gist.github.com/aristofor/3695fbd3f5d6a7a1c4bd)"
   ]
  },
  {
   "cell_type": "code",
   "execution_count": 45,
   "metadata": {
    "collapsed": false
   },
   "outputs": [
    {
     "name": "stdout",
     "output_type": "stream",
     "text": [
      "Connection au port /dev/ttyACM0\n",
      "Scan des moteurs (cela peut prendre quelques secondes)\n",
      "OK, un seul moteur trouvé : 14\n",
      "Positionnement du moteur 14 à 90° \n",
      "Positionnement du moteur 14 à -90° \n",
      "Positionnement du moteur 14 à 0° \n",
      "Changer l'id du moteur 14 : \n",
      "ID non modifié\n"
     ]
    }
   ],
   "source": [
    "#57142 => 1000000\n",
    "#return_delay_time => 0\n",
    "\n",
    "def motor_config():\n",
    "    ports = pypot.dynamixel.get_available_ports()\n",
    "    if len(ports) == 1:\n",
    "        print(\"Connection au port %s\"  % ports[0])\n",
    "        dxl_io = pypot.dynamixel.DxlIO(ports[0])\n",
    "        print('Scan des moteurs (cela peut prendre quelques secondes)')\n",
    "        motors = dxl_io.scan()\n",
    "        if len(motors) == 1:\n",
    "            print(\"OK, un seul moteur trouvé : %s\" % motors[0])\n",
    "            dxl_io.enable_torque(motors)\n",
    "            dxl_io.set_moving_speed({motors[0]:200})\n",
    "            \n",
    "            print(\"Positionnement du moteur %s à 90° \" % motors[0])\n",
    "            dxl_io.set_goal_position({motors[0]:90})\n",
    "            while dxl_io.is_moving((motors[0],))[0]:\n",
    "                time.sleep(0.02)\n",
    "                \n",
    "            print(\"Positionnement du moteur %s à -90° \" % motors[0])\n",
    "            dxl_io.set_goal_position({motors[0]:-90})\n",
    "            while dxl_io.is_moving((motors[0],))[0]:\n",
    "                time.sleep(0.02)\n",
    "            \n",
    "            print(\"Positionnement du moteur %s à 0° \" % motors[0])\n",
    "            dxl_io.set_goal_position({motors[0]:0})\n",
    "            while dxl_io.is_moving((motors[0],))[0]:\n",
    "                time.sleep(0.02)\n",
    "\n",
    "            dxl_io.disable_torque(motors)\n",
    "\n",
    "            target_id = raw_input(\"Changer l'id du moteur %s : \" % motors[0])\n",
    "            try:\n",
    "                target_id = int(target_id)\n",
    "                dxl_io.change_id({motors[0]:target_id})\n",
    "                print(\"ID modifié\")\n",
    "            except ValueError:\n",
    "                print(\"ID non modifié\")\n",
    "\n",
    "            dxl_io.close()\n",
    "\n",
    "        else:\n",
    "            print(\"Erreur, %s moteurs conncectés : %s\" % (len(motors), motors))\n",
    "    else : \n",
    "        print(\"Erreur, %s ports trouvés : %s\" % (len(ports),ports))\n",
    "        \n",
    "motor_config()"
   ]
  },
  {
   "cell_type": "code",
   "execution_count": null,
   "metadata": {
    "collapsed": true
   },
   "outputs": [],
   "source": []
  }
 ],
 "metadata": {
  "kernelspec": {
   "display_name": "Python 2",
   "language": "python",
   "name": "python2"
  },
  "language_info": {
   "codemirror_mode": {
    "name": "ipython",
    "version": 2
   },
   "file_extension": ".py",
   "mimetype": "text/x-python",
   "name": "python",
   "nbconvert_exporter": "python",
   "pygments_lexer": "ipython2",
   "version": "2.7.6"
  }
 },
 "nbformat": 4,
 "nbformat_minor": 0
}
