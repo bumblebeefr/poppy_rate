{
 "cells": [
  {
   "cell_type": "markdown",
   "metadata": {},
   "source": [
    "# Test d'utilisation d'un poppy \"proxyfié\" à distance\n",
    "\n",
    "À date, avec la version de pypot présente sur le depot officiel de poppy, il y a un bug sur la partie RemoteRobotServer/RemoteRobotClient. Ce bug est résolu sur le [fork de mac-call](https://github.com/mac-call/pypot/).\n",
    "\n",
    "## Instanciation du poppy \"normal\""
   ]
  },
  {
   "cell_type": "code",
   "execution_count": null,
   "metadata": {
    "collapsed": false
   },
   "outputs": [],
   "source": [
    "#imports and initialize virutal poppy using vrep\n",
    "from pypot.vrep import from_vrep\n",
    "from poppy.creatures import PoppyHumanoid\n",
    "robot = PoppyHumanoid(simulator='vrep')"
   ]
  },
  {
   "cell_type": "code",
   "execution_count": null,
   "metadata": {
    "collapsed": false
   },
   "outputs": [],
   "source": [
    "#imports and initialize physical poppy\n",
    "from poppy.creatures import PoppyHumanoid\n",
    "robot = PoppyHumanoid()"
   ]
  },
  {
   "cell_type": "code",
   "execution_count": null,
   "metadata": {
    "collapsed": false
   },
   "outputs": [],
   "source": [
    "for m in robot.motors:\n",
    "   print(\"%s : %s\" % (m.name, present_temperature))"
   ]
  },
  {
   "cell_type": "markdown",
   "metadata": {},
   "source": [
    "# Creation du serveur rpc (RemoteRobotServer)\n",
    "utilise un objet [RobotServer](https://github.com/poppy-project/pypot/blob/master/pypot/server/server.py) "
   ]
  },
  {
   "cell_type": "code",
   "execution_count": null,
   "metadata": {
    "collapsed": false
   },
   "outputs": [],
   "source": [
    "from pypot.server import RemoteRobotServer"
   ]
  },
  {
   "cell_type": "code",
   "execution_count": null,
   "metadata": {
    "collapsed": false
   },
   "outputs": [],
   "source": [
    "robot_server = RemoteRobotServer(robot,\"0.0.0.0\",4241)"
   ]
  },
  {
   "cell_type": "code",
   "execution_count": null,
   "metadata": {
    "collapsed": false
   },
   "outputs": [],
   "source": [
    "robot_server.run()"
   ]
  }
 ],
 "metadata": {
  "kernelspec": {
   "display_name": "Python 2",
   "language": "python",
   "name": "python2"
  },
  "language_info": {
   "codemirror_mode": {
    "name": "ipython",
    "version": 2
   },
   "file_extension": ".py",
   "mimetype": "text/x-python",
   "name": "python",
   "nbconvert_exporter": "python",
   "pygments_lexer": "ipython2",
   "version": "2.7.6"
  }
 },
 "nbformat": 4,
 "nbformat_minor": 0
}
