{
 "cells": [
  {
   "cell_type": "markdown",
   "metadata": {},
   "source": [
    "## Test d'utilisation d'un poppy \"proxyfié\" à distance\n",
    "\n",
    "[Voir le client](/notebooks/[remote] Client Poppy RPC - PoppyProxy.ipynb)\n",
    "\n",
    "\n",
    "### Instanciation du poppy \"normal\""
   ]
  },
  {
   "cell_type": "code",
   "execution_count": null,
   "metadata": {
    "collapsed": false
   },
   "outputs": [],
   "source": [
    "#imports and initilaize virutal poppy using vrep\n",
    "from pypot.vrep import from_vrep\n",
    "from poppy.creatures import PoppyHumanoid\n",
    "robot = PoppyHumanoid(simulator='vrep')"
   ]
  },
  {
   "cell_type": "code",
   "execution_count": null,
   "metadata": {
    "collapsed": true
   },
   "outputs": [],
   "source": [
    "#import and initialize physical poppy\n",
    "from poppy.creatures import PoppyHumanoid\n",
    "robot = PoppyHumanoid()"
   ]
  },
  {
   "cell_type": "markdown",
   "metadata": {},
   "source": [
    "### Creation du serveur rpc (zeromq) v1\n",
    "inspiré du notebooks [robot-server](http://nbviewer.ipython.org/github/poppy-project/pypot/blob/master/samples/notebooks/robot-server.ipynb) à priori il faut lui préférer la v2 ci dessous"
   ]
  },
  {
   "cell_type": "code",
   "execution_count": null,
   "metadata": {
    "collapsed": true
   },
   "outputs": [],
   "source": [
    "from pypot.server.rest import RESTRobot\n",
    "robot_server = RESTRobot(robot)"
   ]
  },
  {
   "cell_type": "code",
   "execution_count": null,
   "metadata": {
    "collapsed": false
   },
   "outputs": [],
   "source": [
    "import zerorpc"
   ]
  },
  {
   "cell_type": "code",
   "execution_count": null,
   "metadata": {
    "collapsed": false
   },
   "outputs": [],
   "source": [
    "s = zerorpc.Server(robot_server)\n",
    "s.bind(\"tcp://0.0.0.0:4242\")\n",
    "s.run()"
   ]
  },
  {
   "cell_type": "markdown",
   "metadata": {},
   "source": [
    "###Creation du serveur rpc (ZMQRobotServer) v2\n",
    "utilise un objet [ZMQRobotServer](https://github.com/poppy-project/pypot/blob/master/pypot/server/zmqserver.py) qui a l'air d'être fait pour ca !"
   ]
  },
  {
   "cell_type": "code",
   "execution_count": null,
   "metadata": {
    "collapsed": false
   },
   "outputs": [],
   "source": [
    "from pypot.server.zmqserver import ZMQRobotServer"
   ]
  },
  {
   "cell_type": "code",
   "execution_count": null,
   "metadata": {
    "collapsed": false
   },
   "outputs": [],
   "source": [
    "robot_server = ZMQRobotServer(robot,\"127.0.0.1\",4242)"
   ]
  },
  {
   "cell_type": "code",
   "execution_count": null,
   "metadata": {
    "collapsed": false
   },
   "outputs": [],
   "source": [
    "robot_server.run()"
   ]
  }
 ],
 "metadata": {
  "kernelspec": {
   "display_name": "Python 2",
   "language": "python",
   "name": "python2"
  },
  "language_info": {
   "codemirror_mode": {
    "name": "ipython",
    "version": 2
   },
   "file_extension": ".py",
   "mimetype": "text/x-python",
   "name": "python",
   "nbconvert_exporter": "python",
   "pygments_lexer": "ipython2",
   "version": "2.7.6"
  }
 },
 "nbformat": 4,
 "nbformat_minor": 0
}
