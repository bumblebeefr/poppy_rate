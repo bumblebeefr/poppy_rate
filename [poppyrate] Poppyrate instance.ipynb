{
 "cells": [
  {
   "cell_type": "markdown",
   "metadata": {},
   "source": [
    "#Instanciation de poppyrate\n",
    "\n",
    "Exemple d'instanciation d'un poppyrate tel qu'il pourrais être lancé comme service, avec un serveur snap, http et remote(rpc).\n",
    "\n",
    "Ce notebook peut servir de base à dupliquer pour instancier le robot et l'utiliser directement."
   ]
  },
  {
   "cell_type": "code",
   "execution_count": 1,
   "metadata": {
    "collapsed": false
   },
   "outputs": [],
   "source": [
    "import logging\n",
    "import logging.handlers\n",
    "from poppy_rate import PoppyRate\n",
    "import poppy_rate\n",
    "import poppy_rate.primitives as pp"
   ]
  },
  {
   "cell_type": "markdown",
   "metadata": {},
   "source": [
    "###Logs \n",
    "\n",
    "Activation des logs en info dans le fichier [logs//poppyrate.log](./[poppyrate] logs.ipynb)"
   ]
  },
  {
   "cell_type": "code",
   "execution_count": 2,
   "metadata": {
    "collapsed": true
   },
   "outputs": [],
   "source": [
    "handler = logging.handlers.TimedRotatingFileHandler('logs/poppyrate.log', when=\"midnight\", backupCount=10)\n",
    "formatter = logging.Formatter('\\033[1;30m%(asctime)s \\033[0;33m%(levelname)s \\033[1;32m%(threadName)s \\033[0m%(module)s:%(lineno)-4s \\033[0m%(message)s\\033[0m')\n",
    "handler.setFormatter(formatter)\n",
    "handler.setLevel('INFO')\n",
    "logging.root.handlers = []\n",
    "logging.root.addHandler(handler)\n",
    "logging.root.setLevel('INFO')"
   ]
  },
  {
   "cell_type": "markdown",
   "metadata": {},
   "source": [
    "###Instanciation de l'objet robot\n",
    "\n",
    "Création de l'objet robot avec les 3 services en tache de fond. \n",
    "\n",
    "⚠ Attention pour couper ces services il faudra redemarrer le kernel ipython."
   ]
  },
  {
   "cell_type": "code",
   "execution_count": 3,
   "metadata": {
    "collapsed": false
   },
   "outputs": [
    {
     "name": "stderr",
     "output_type": "stream",
     "text": [
      "Bottle v0.12.8 server starting up (using TornadoServer())...\n",
      "Listening on http://0.0.0.0:8080/\n",
      "Hit Ctrl-C to quit.\n",
      "\n"
     ]
    }
   ],
   "source": [
    "robot = PoppyRate(simulator = \"vrep\", use_snap=True, use_remote=True, use_http=True, start_services=True)"
   ]
  },
  {
   "cell_type": "markdown",
   "metadata": {},
   "source": [
    "# Utilisation du robot"
   ]
  },
  {
   "cell_type": "code",
   "execution_count": 4,
   "metadata": {
    "collapsed": false
   },
   "outputs": [],
   "source": [
    "robot.play_sound.start()"
   ]
  },
  {
   "cell_type": "code",
   "execution_count": null,
   "metadata": {
    "collapsed": true
   },
   "outputs": [],
   "source": [
    "robot.abs_x.goal_position = -10\n",
    "robot.head_z.goal_position = 20"
   ]
  },
  {
   "cell_type": "code",
   "execution_count": null,
   "metadata": {
    "collapsed": true
   },
   "outputs": [],
   "source": [
    "robot.dance_beat_motion.start()"
   ]
  },
  {
   "cell_type": "code",
   "execution_count": null,
   "metadata": {
    "collapsed": false
   },
   "outputs": [],
   "source": [
    "robot.stand_position.start()"
   ]
  },
  {
   "cell_type": "code",
   "execution_count": null,
   "metadata": {
    "collapsed": false
   },
   "outputs": [],
   "source": [
    "robot.say_hello.start()"
   ]
  },
  {
   "cell_type": "code",
   "execution_count": null,
   "metadata": {
    "collapsed": false,
    "scrolled": false
   },
   "outputs": [],
   "source": [
    "import operator\n",
    "# liste triée par t° de tuples (nom_moteur,t°)\n",
    "temperatures =sorted([(m.name, m.present_temperature) for m in robot.motors], key=operator.itemgetter(1), reverse=True)\n",
    "#affiche le tout\n",
    "for m,t in temperatures:\n",
    "    print \"{:>20}: {}°C\".format(m,t)"
   ]
  },
  {
   "cell_type": "code",
   "execution_count": null,
   "metadata": {
    "collapsed": false
   },
   "outputs": [],
   "source": [
    "robot.compliant = True"
   ]
  },
  {
   "cell_type": "code",
   "execution_count": null,
   "metadata": {
    "collapsed": true
   },
   "outputs": [],
   "source": [
    "robot.close()"
   ]
  },
  {
   "cell_type": "code",
   "execution_count": null,
   "metadata": {
    "collapsed": true
   },
   "outputs": [],
   "source": [
    "import os"
   ]
  },
  {
   "cell_type": "code",
   "execution_count": null,
   "metadata": {
    "collapsed": false
   },
   "outputs": [],
   "source": [
    "directory = os.path.join(os.path.split(os.path.dirname(os.path.abspath(pp.__file__)))[0],'media','sounds')\n",
    "[f[:-4] for f in os.listdir(directory) if f.endswith('.ogg')]\n"
   ]
  },
  {
   "cell_type": "code",
   "execution_count": null,
   "metadata": {
    "collapsed": true
   },
   "outputs": [],
   "source": [
    "os.path.split?"
   ]
  },
  {
   "cell_type": "code",
   "execution_count": null,
   "metadata": {
    "collapsed": true
   },
   "outputs": [],
   "source": [
    "os.path.join(os.path.dirname(os.path.abspath(__file__)), 'media'"
   ]
  },
  {
   "cell_type": "code",
   "execution_count": null,
   "metadata": {
    "collapsed": false
   },
   "outputs": [],
   "source": [
    "from types import MethodType\n",
    "\n",
    "def say_something(something):\n",
    "    def fn(self):\n",
    "        print(\"hello %s\" % something)\n",
    "    return fn\n",
    "        \n",
    "#def fn(self,):\n",
    "#    print(\"hello\")\n",
    "\n",
    "prim = robot.say_hello\n",
    "for k in ['world', 'universe']:\n",
    "    setattr(prim, 'say_%s'%k, MethodType(say_something(k), prim, type(prim)))\n",
    " "
   ]
  },
  {
   "cell_type": "code",
   "execution_count": null,
   "metadata": {
    "collapsed": false
   },
   "outputs": [],
   "source": [
    "prim.say_world()"
   ]
  }
 ],
 "metadata": {
  "kernelspec": {
   "display_name": "Python 2",
   "language": "python",
   "name": "python2"
  },
  "language_info": {
   "codemirror_mode": {
    "name": "ipython",
    "version": 2
   },
   "file_extension": ".py",
   "mimetype": "text/x-python",
   "name": "python",
   "nbconvert_exporter": "python",
   "pygments_lexer": "ipython2",
   "version": "2.7.6"
  }
 },
 "nbformat": 4,
 "nbformat_minor": 0
}
