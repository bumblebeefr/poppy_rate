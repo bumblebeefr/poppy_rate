{
 "cells": [
  {
   "cell_type": "markdown",
   "metadata": {},
   "source": [
    "# Exemples et tests d'utilisation du systeme de Primitive de PyPot\n",
    "* [Documentation sur les primitives](http://nbviewer.ipython.org/github/poppy-project/pypot/blob/master/samples/notebooks/Controlling%20a%20Poppy%20humanoid%20in%20V-REP%20using%20pypot.ipynb#Using-primitives)\n",
    "* [Exemples d'utilisation des primitives (notebook)](http://nbviewer.ipython.org/github/poppy-project/pypot/blob/master/samples/notebooks/Controlling%20a%20Poppy%20humanoid%20in%20V-REP%20using%20pypot.ipynb#Using-primitives)\n",
    "* [Primitive de bases inclues dans pypot (github)](https://github.com/poppy-project/pypot/tree/master/pypot/primitive)\n",
    "* [Primitives inclues dans Poppy_humanoïde](https://github.com/poppy-project/poppy-humanoid/tree/master/software/poppy_humanoid/primitives)"
   ]
  },
  {
   "cell_type": "code",
   "execution_count": null,
   "metadata": {
    "collapsed": true
   },
   "outputs": [],
   "source": [
    "from pprint import pprint\n"
   ]
  },
  {
   "cell_type": "code",
   "execution_count": null,
   "metadata": {
    "collapsed": false
   },
   "outputs": [],
   "source": [
    "#imports and initilaize virutal poppy using vrep\n",
    "from pypot.vrep import from_vrep\n",
    "from poppy.creatures import PoppyHumanoid\n",
    "robot = PoppyHumanoid(simulator='vrep')"
   ]
  },
  {
   "cell_type": "code",
   "execution_count": null,
   "metadata": {
    "collapsed": false
   },
   "outputs": [],
   "source": [
    "#import and initialize physical poppy\n",
    "from poppy.creatures import PoppyHumanoid\n",
    "robot = PoppyHumanoid()"
   ]
  },
  {
   "cell_type": "code",
   "execution_count": null,
   "metadata": {
    "collapsed": false
   },
   "outputs": [],
   "source": [
    "#Rend le robot mou et deconnecte les moteurs\n",
    "for m in robot.motors:\n",
    "    m.compliant = True\n",
    "robot.close()"
   ]
  },
  {
   "cell_type": "code",
   "execution_count": null,
   "metadata": {
    "collapsed": true
   },
   "outputs": [],
   "source": []
  },
  {
   "cell_type": "markdown",
   "metadata": {},
   "source": [
    "## Primitives de sécurité\n",
    "Activation des deux primitives de sécurités fournies avec la poppy_humanoïde, elle permettent d'eviter les dmages sur les moteurs, notement dus a leur surchauffe.\n",
    "* **LimitTorque** : limite le couple appliqué sur le les moteurs, evite leur surcauffe mais aussi de casser des pieces.\n",
    "* **TemperatureMonitor** : Surveille la temperature des moteur, joue un son et affiche une alerte lorsque la temperature de certains moteurs atteind la limite fixée.\n",
    "\n",
    "Ces deux primitives devraient être activées au debut de nimporte quelle utilisation de poppy."
   ]
  },
  {
   "cell_type": "code",
   "execution_count": null,
   "metadata": {
    "collapsed": false
   },
   "outputs": [],
   "source": [
    "from poppy_humanoid.primitives.safe import LimitTorque\n",
    "plimit_torque = LimitTorque(robot)\n",
    "plimit_torque.start()"
   ]
  },
  {
   "cell_type": "code",
   "execution_count": null,
   "metadata": {
    "collapsed": false
   },
   "outputs": [],
   "source": [
    "from poppy_humanoid.primitives.safe import TemperatureMonitor\n",
    "ptemp_monitor = TemperatureMonitor(robot,temp_limit=50, sound=\"/opt/sounds/ouch.wav\")\n",
    "ptemp_monitor.start()"
   ]
  },
  {
   "cell_type": "markdown",
   "metadata": {},
   "source": [
    "### Moniteur de temperature custom\n",
    "Le moniteur de temperature fournis est sympa mais si pour une raison \n",
    "ou une autre l'opérateur de Poppy de vois/entend pas l'alerte cela risque de causer des\n",
    "domages irreversible sur les moteurs. Cette version propose de rendre rendre \"mou\" puis totalement inactif\n",
    "les moteurs qui seraient chaud depuis trop longtemps.\n",
    "\n",
    "⇒ La classe est définie dans [poppy_rate/primitives/safety.py](/edit/poppy_rate/primitives/safety.py) \n",
    "\n",
    "Remarque : limiter le couple des moteur ne semble pas reelement utile, simplement rendre les moteurs compliant si ce n'est pas deja le cas devrait suffire."
   ]
  },
  {
   "cell_type": "code",
   "execution_count": null,
   "metadata": {
    "collapsed": false,
    "scrolled": true
   },
   "outputs": [],
   "source": [
    "from poppy_rate.primitives.safety import CustomTemperatureMonitor\n",
    "robot.attach_primitive(CustomTemperatureMonitor(robot,temp_limit=50, sound=\"/opt/sounds/ouch.wav\"),\"temp_monitor\")\n",
    "robot.temp_monitor.start()"
   ]
  },
  {
   "cell_type": "markdown",
   "metadata": {},
   "source": [
    "### Loggeur de temperatures min/max\n",
    "Primitive permettant d'afficher un graph de l'évolution des temperature min/max des moteurs de poppy\n",
    "\n",
    "⇒ La classe est définie dans [poppy_rate/primitives/safety.py](/edit/poppy_rate/primitives/safety.py)"
   ]
  },
  {
   "cell_type": "code",
   "execution_count": null,
   "metadata": {
    "collapsed": false
   },
   "outputs": [],
   "source": [
    "from poppy_rate.primitives.safety import TemperatureLogger"
   ]
  },
  {
   "cell_type": "code",
   "execution_count": null,
   "metadata": {
    "collapsed": false
   },
   "outputs": [],
   "source": [
    "temp_logger = TemperatureLogger(robot)\n",
    "temp_logger.start()"
   ]
  },
  {
   "cell_type": "code",
   "execution_count": null,
   "metadata": {
    "collapsed": false
   },
   "outputs": [],
   "source": [
    "%pylab inline\n",
    "\n",
    "rcParams['figure.figsize'] = 15, 4\n",
    "\n",
    "t = linspace(0, 20, len(temp_logger.temp_max))\n",
    "plot(t, temp_logger.temp_min,'g:')\n",
    "plot(t, temp_logger.temp_max,'r-')\n",
    "\n",
    "legend(('min', 'max'))"
   ]
  },
  {
   "cell_type": "code",
   "execution_count": null,
   "metadata": {
    "collapsed": false
   },
   "outputs": [],
   "source": [
    "import operator\n",
    "# liste triée par t° de tuples (nom_moteur,t°)\n",
    "temperatures =sorted ([ (m.name,m.present_temperature) for m in robot.motors ] , key=operator.itemgetter(1),reverse=True)\n",
    "#affiche le tout\n",
    "for m,t in temperatures:\n",
    "    print (u\"%20s' :   %5s°C\") % (m,t)"
   ]
  },
  {
   "cell_type": "markdown",
   "metadata": {},
   "source": [
    "## Positions prédéfinies\n",
    "### Assis"
   ]
  },
  {
   "cell_type": "code",
   "execution_count": null,
   "metadata": {
    "collapsed": true
   },
   "outputs": [],
   "source": [
    "from poppy_humanoid.primitives.posture import SitPosition\n",
    "robot.attach_primitive(SitPosition(robot),\"sit\")"
   ]
  },
  {
   "cell_type": "code",
   "execution_count": null,
   "metadata": {
    "collapsed": true
   },
   "outputs": [],
   "source": [
    "robot.sit.start()"
   ]
  },
  {
   "cell_type": "code",
   "execution_count": null,
   "metadata": {
    "collapsed": true
   },
   "outputs": [],
   "source": [
    "robot.sit.stop()"
   ]
  },
  {
   "cell_type": "markdown",
   "metadata": {},
   "source": [
    "### Debout"
   ]
  },
  {
   "cell_type": "code",
   "execution_count": null,
   "metadata": {
    "collapsed": true
   },
   "outputs": [],
   "source": [
    "from poppy_humanoid.primitives.posture import StandPosition\n",
    "robot.attach_primitive(StandPosition(robot),\"stand\")"
   ]
  },
  {
   "cell_type": "code",
   "execution_count": null,
   "metadata": {
    "collapsed": false
   },
   "outputs": [],
   "source": [
    "robot.stand.start()"
   ]
  },
  {
   "cell_type": "markdown",
   "metadata": {},
   "source": [
    "##Comportement Custom\n",
    "### Coucou"
   ]
  },
  {
   "cell_type": "code",
   "execution_count": null,
   "metadata": {
    "collapsed": false
   },
   "outputs": [],
   "source": [
    "for p in ['r','l']:\n",
    "    for m in ['%s_elbow_y'%p, '%s_shoulder_y'%p,'%s_arm_z'%p]:\n",
    "        robot.__dict__.get(m).compliant = False\n",
    "\n",
    "    robot.goto_position({'%s_elbow_y'%p:-90, '%s_shoulder_y'%p:-75,'%s_arm_z'%p:0}, 1, wait=True)\n",
    "    for k in range(3):\n",
    "        robot.goto_position({'%s_arm_z'%p:45}, 0.7, wait=True)\n",
    "        robot.goto_position({'%s_arm_z'%p:-45}, 0.7, wait=True)\n",
    "        \n",
    "\n",
    "    robot.goto_position({'%s_elbow_y'%p:0, '%s_shoulder_y'%p:0,'%s_arm_z'%p:0}, 3, wait=True)\n",
    "\n",
    "    for m in robot.motors:\n",
    "        m.compliant = True"
   ]
  },
  {
   "cell_type": "markdown",
   "metadata": {},
   "source": [
    "Fait coucou à la mode Elisabeth II, bras droit puis bras gauche :\n",
    "(repris dans [poppy_rate/primitives/behaviour.py](/edit/poppy_rate/primitives/behaviour.py) ) :\n",
    "\n",
    "*N'a pas l'air de fonctionner dans poppy_vrep mais pourtant fonctionnait bien quand testé sur poppy physique*"
   ]
  },
  {
   "cell_type": "code",
   "execution_count": null,
   "metadata": {
    "collapsed": false
   },
   "outputs": [],
   "source": [
    "arm = {'r':90,'l':-90}\n",
    "shoulder = {'r':-40,'l':40}\n",
    "shoulder2 = {'r':-15,'l':15}\n",
    "for p in ['r','l']:\n",
    "    for m in ['%s_elbow_y'%p, '%s_shoulder_y'%p,'%s_shoulder_x'%p,'%s_arm_z'%p]:\n",
    "        robot.__dict__.get(m).compliant = False\n",
    "\n",
    "    robot.goto_position({'%s_elbow_y'%p:-50, '%s_shoulder_y'%p:-165,'%s_arm_z'%p:arm[p]}, 1.5, wait=True)\n",
    "\n",
    "    for k in range(3):\n",
    "        robot.goto_position({'%s_elbow_y'%p:-30,'%s_shoulder_x'%p:shoulder[p]}, 2, wait=True)\n",
    "        robot.goto_position({'%s_elbow_y'%p:-65,'%s_shoulder_x'%p:0}, 2, wait=True)\n",
    "    \n",
    "    robot.goto_position({'%s_elbow_y'%p:0, '%s_shoulder_y'%p:0,'%s_arm_z'%p:0,'%s_shoulder_x'%p:shoulder2[p]}, 2, wait=True)\n",
    "    for m in robot.motors:\n",
    "        m.compliant = True"
   ]
  }
 ],
 "metadata": {
  "kernelspec": {
   "display_name": "Python 2",
   "language": "python",
   "name": "python2"
  },
  "language_info": {
   "codemirror_mode": {
    "name": "ipython",
    "version": 2
   },
   "file_extension": ".py",
   "mimetype": "text/x-python",
   "name": "python",
   "nbconvert_exporter": "python",
   "pygments_lexer": "ipython2",
   "version": "2.7.6"
  }
 },
 "nbformat": 4,
 "nbformat_minor": 0
}
