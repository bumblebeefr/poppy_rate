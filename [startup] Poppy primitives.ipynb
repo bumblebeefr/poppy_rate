{
 "cells": [
  {
   "cell_type": "markdown",
   "metadata": {},
   "source": [
    "# Exemples et tests d'utilisation du systeme de Primitive de PyPot\n",
    "* [Documentation sur les primitives](http://nbviewer.ipython.org/github/poppy-project/pypot/blob/master/samples/notebooks/Controlling%20a%20Poppy%20humanoid%20in%20V-REP%20using%20pypot.ipynb#Using-primitives)\n",
    "* [Exemples d'utilisation des primitives (notebook)](http://nbviewer.ipython.org/github/poppy-project/pypot/blob/master/samples/notebooks/Controlling%20a%20Poppy%20humanoid%20in%20V-REP%20using%20pypot.ipynb#Using-primitives)\n",
    "* [Primitive de bases inclues dans pypot (github)](https://github.com/poppy-project/pypot/tree/master/pypot/primitive)\n",
    "* [Primitives inclues dans Poppy_humanoïde](https://github.com/poppy-project/poppy-humanoid/tree/master/software/poppy_humanoid/primitives)"
   ]
  },
  {
   "cell_type": "code",
   "execution_count": 1,
   "metadata": {
    "collapsed": true
   },
   "outputs": [],
   "source": [
    "#imports and initilaize virutal poppy using vrep\n",
    "from pypot.vrep import from_vrep\n",
    "from poppy.creatures import PoppyHumanoid\n",
    "robot = PoppyHumanoid(simulator='vrep')"
   ]
  },
  {
   "cell_type": "code",
   "execution_count": null,
   "metadata": {
    "collapsed": true
   },
   "outputs": [],
   "source": [
    "#import and initialize physical poppy\n",
    "from poppy.creatures import PoppyHumanoid\n",
    "robot = PoppyHumanoid()"
   ]
  },
  {
   "cell_type": "code",
   "execution_count": null,
   "metadata": {
    "collapsed": true
   },
   "outputs": [],
   "source": [
    "#Rend le robot mou et deconnecte les moteurs\n",
    "for m in robot.motors:\n",
    "    m.compliant = True\n",
    "robot.close()"
   ]
  },
  {
   "cell_type": "code",
   "execution_count": null,
   "metadata": {
    "collapsed": true
   },
   "outputs": [],
   "source": []
  },
  {
   "cell_type": "markdown",
   "metadata": {},
   "source": [
    "## Primitives de sécurité\n",
    "Activation des deux primitives de sécurités fournies avec la poppy_humanoïde, elle permettent d'eviter les dmages sur les moteurs, notement dus a leur surchauffe.\n",
    "* **LimitTorque** : limite le couple appliqué sur le les moteurs, evite leur surcauffe mais aussi de casser des pieces.\n",
    "* **TemperatureMonitor** : Surveille la temperature des moteur, joue un son et affiche une alerte lorsque la temperature de certains moteurs atteind la limite fixée.\n",
    "\n",
    "Ces deux primitives devraient être activées au debut de nimporte quelle utilisation de poppy."
   ]
  },
  {
   "cell_type": "code",
   "execution_count": 5,
   "metadata": {
    "collapsed": false
   },
   "outputs": [],
   "source": [
    "from poppy_humanoid.primitives.safe import LimitTorque\n",
    "plimit_torque = LimitTorque(robot)\n",
    "plimit_torque.start()"
   ]
  },
  {
   "cell_type": "code",
   "execution_count": 6,
   "metadata": {
    "collapsed": true
   },
   "outputs": [
    {
     "ename": "ImportError",
     "evalue": "cannot import name TemperatureMonitor",
     "output_type": "error",
     "traceback": [
      "\u001b[1;31m---------------------------------------------------------------------------\u001b[0m",
      "\u001b[1;31mImportError\u001b[0m                               Traceback (most recent call last)",
      "\u001b[1;32m<ipython-input-6-e5b9540db077>\u001b[0m in \u001b[0;36m<module>\u001b[1;34m()\u001b[0m\n\u001b[1;32m----> 1\u001b[1;33m \u001b[1;32mfrom\u001b[0m \u001b[0mpoppy_humanoid\u001b[0m\u001b[1;33m.\u001b[0m\u001b[0mprimitives\u001b[0m\u001b[1;33m.\u001b[0m\u001b[0msafe\u001b[0m \u001b[1;32mimport\u001b[0m \u001b[0mTemperatureMonitor\u001b[0m\u001b[1;33m\u001b[0m\u001b[0m\n\u001b[0m\u001b[0;32m      2\u001b[0m \u001b[0mptempmonitor\u001b[0m \u001b[1;33m=\u001b[0m \u001b[0mTemperatureMonitor\u001b[0m\u001b[1;33m(\u001b[0m\u001b[0mrobot\u001b[0m\u001b[1;33m,\u001b[0m\u001b[0mtemp_limit\u001b[0m\u001b[1;33m=\u001b[0m\u001b[1;36m50\u001b[0m\u001b[1;33m,\u001b[0m \u001b[0msound\u001b[0m\u001b[1;33m=\u001b[0m\u001b[1;34m\"/opt/sounds/ouch.wav\"\u001b[0m\u001b[1;33m)\u001b[0m\u001b[1;33m\u001b[0m\u001b[0m\n",
      "\u001b[1;31mImportError\u001b[0m: cannot import name TemperatureMonitor"
     ]
    }
   ],
   "source": [
    "from poppy_humanoid.primitives.safe import TemperatureMonitor\n",
    "ptemp_monitor = TemperatureMonitor(robot,temp_limit=50, sound=\"/opt/sounds/ouch.wav\")\n",
    "ptemp_monitor.start()"
   ]
  },
  {
   "cell_type": "markdown",
   "metadata": {},
   "source": [
    "### Moniteur de temperature custom\n",
    "Le moniteur de temperature fournis est sympa mais si pour une raison \n",
    "ou une autre l'opérateur de Poppy de vois/entend pas l'alerte cela risque de causer des\n",
    "domages irreversible sur les moteurs. Cette version propose de rendre rendre \"mou\" puis totalement inactif\n",
    "les moteurs qui seraient chaud depuis trop longtemps."
   ]
  },
  {
   "cell_type": "code",
   "execution_count": 2,
   "metadata": {
    "collapsed": false
   },
   "outputs": [],
   "source": [
    "from datetime import datetime, timedelta\n",
    "import pypot\n",
    "\n",
    "class CustomTemperatureMonitor(pypot.primitive.LoopPrimitive):\n",
    "    '''\n",
    "        This primitive raises an alert by playing a sound when the temperature\n",
    "        of one motor reaches the \"temp_limit\".\n",
    "        \n",
    "        If a motor reaches the limit since more than \"time_reduce_torque\" seconds\n",
    "        the torc of this motor will be reduced to \"small_torque\".\n",
    "        \n",
    "        If a motor reaches the limit since more than \"time_compliant\" seconds\n",
    "        this motor will be made compliant.\n",
    "\n",
    "        On MacOS \"Darwin\" you can use \"afplay\" for player\n",
    "        On windows vista+, you can maybe use \"start wmplayer\"\n",
    "        '''\n",
    "    def __init__(self, robot, freq=0.5, temp_limit=50, \n",
    "                 time_reduce_torque=30, small_torque=45, \n",
    "                 time_compliant=90, player='aplay', sound=None):\n",
    "        \n",
    "        pypot.primitive.LoopPrimitive.__init__(self, robot, freq)\n",
    "\n",
    "        self.temp_limit = temp_limit\n",
    "        self.time_reduce_torque = time_reduce_torque\n",
    "        self.time_compliant = time_compliant\n",
    "        self.small_torque = small_torque\n",
    "        self.player = player\n",
    "        self.sound = sound\n",
    "        self._overheat_time = {}\n",
    "\n",
    "    def setup(self):\n",
    "        pass\n",
    "\n",
    "    def update(self):\n",
    "        self.check_temperature()\n",
    "\n",
    "    def teardown(self):\n",
    "        pass\n",
    "\n",
    "    def check_temperature(self):\n",
    "        motor_list = []\n",
    "\n",
    "        for m in self.robot.motors:\n",
    "            if m.present_temperature > self.temp_limit:\n",
    "                motor_list.append(m)\n",
    "                if m not in self._overheat_time:\n",
    "                    self._overheat_time[m] = datetime.now()\n",
    "            else:\n",
    "                if m in self._overheat_time:\n",
    "                    del(self._overheat_time[m])\n",
    "\n",
    "        if len(motor_list) > 0:\n",
    "            self.raise_problem(motor_list)\n",
    "        \n",
    "        for m,t in self._overheat_time.items():\n",
    "            if (datetime.now() - t) > timedelta(seconds = self.time_compliant):\n",
    "                print('/!\\ Making {} compliant !'.format(m.name))\n",
    "                m.compliant = True\n",
    "\n",
    "            elif(datetime.now() - t) > timedelta(seconds = self.time_reduce_torque):\n",
    "                print('/!\\ Reducing torque of {} to {}'.format(m.name,min(m.torque_limit,self.small_torque)))\n",
    "                m.torque_limit = min(m.torque_limit,self.small_torque)\n",
    "\n",
    "    def raise_problem(self, motor_list):\n",
    "        subprocess.call([self.player, self.sound])\n",
    "\n",
    "        for m in motor_list:\n",
    "            print('{} overheating: {}'.format(m.name, m.present_temperature))\n"
   ]
  },
  {
   "cell_type": "markdown",
   "metadata": {},
   "source": [
    "⇒ La classe est définie dans [poppy_rate/primitives/safety.py](/edit/poppy_rate/primitives/safety.py) on peut donc aussi l'importer dans un notebook "
   ]
  },
  {
   "cell_type": "code",
   "execution_count": 4,
   "metadata": {
    "collapsed": false
   },
   "outputs": [],
   "source": [
    "from poppy_rate.primitives.safety import CustomTemperatureMonitor\n",
    "robot.attach_primitive(CustomTemperatureMonitor(robot,temp_limit=50, sound=\"/opt/sounds/ouch.wav\"),\"temp_monitor\")\n",
    "robot.temp_monitor.start()"
   ]
  },
  {
   "cell_type": "markdown",
   "metadata": {},
   "source": [
    "### Loggeur de temperatures min/max\n",
    "Primitive permettant d'afficher un graph de l'évolution des temperature min/max des moteurs de poppy"
   ]
  },
  {
   "cell_type": "code",
   "execution_count": 8,
   "metadata": {
    "collapsed": false
   },
   "outputs": [],
   "source": [
    "from pypot.primitive import LoopPrimitive\n",
    "\n",
    "class TemperatureLogger(LoopPrimitive):\n",
    "    def __init__(self, robot, freq=5):\n",
    "        LoopPrimitive.__init__(self, robot, freq)\n",
    "\n",
    "    # This code will be called each time the primitive is started\n",
    "    def setup(self):\n",
    "        self.temp_min = []\n",
    "        self.temp_max = []\n",
    "       \n",
    "    # This method will be called at the predefined frequency\n",
    "    def update(self):\n",
    "        self.temp_min.append(min([m.present_temperature for m in self.robot.motors]))\n",
    "        self.temp_max.append(max([m.present_temperature for m in self.robot.motors]))\n"
   ]
  },
  {
   "cell_type": "code",
   "execution_count": 14,
   "metadata": {
    "collapsed": false
   },
   "outputs": [],
   "source": [
    "temp_logger = TemperatureLogger(robot)\n",
    "temp_logger.start()"
   ]
  },
  {
   "cell_type": "code",
   "execution_count": 25,
   "metadata": {
    "collapsed": false
   },
   "outputs": [
    {
     "name": "stdout",
     "output_type": "stream",
     "text": [
      "Populating the interactive namespace from numpy and matplotlib\n"
     ]
    },
    {
     "data": {
      "text/plain": [
       "<matplotlib.legend.Legend at 0x7f80a1701f10>"
      ]
     },
     "execution_count": 25,
     "metadata": {},
     "output_type": "execute_result"
    },
    {
     "data": {
      "image/png": "[encoded data removed]",
      "text/plain": [
       "<matplotlib.figure.Figure at 0x7f80a89032d0>"
      ]
     },
     "metadata": {},
     "output_type": "display_data"
    }
   ],
   "source": [
    "%pylab inline\n",
    "\n",
    "t = linspace(0, 20, len(temp_logger.temp_max))\n",
    "plot(t, temp_logger.temp_min,'g:')\n",
    "plot(t, temp_logger.temp_max,'r-')\n",
    "\n",
    "legend(('min', 'max'))"
   ]
  },
  {
   "cell_type": "markdown",
   "metadata": {},
   "source": [
    "## Positions prédéfinies\n",
    "### Assis"
   ]
  },
  {
   "cell_type": "code",
   "execution_count": 4,
   "metadata": {
    "collapsed": true
   },
   "outputs": [],
   "source": [
    "from poppy_humanoid.primitives.posture import SitPosition\n",
    "robot.attach_primitive(SitPosition(robot),\"sit\")"
   ]
  },
  {
   "cell_type": "code",
   "execution_count": null,
   "metadata": {
    "collapsed": true
   },
   "outputs": [],
   "source": [
    "robot.sit.start()"
   ]
  },
  {
   "cell_type": "code",
   "execution_count": 5,
   "metadata": {
    "collapsed": true
   },
   "outputs": [],
   "source": [
    "robot.sit.stop()"
   ]
  },
  {
   "cell_type": "markdown",
   "metadata": {},
   "source": [
    "### Debout"
   ]
  },
  {
   "cell_type": "code",
   "execution_count": 10,
   "metadata": {
    "collapsed": true
   },
   "outputs": [],
   "source": [
    "from poppy_humanoid.primitives.posture import StandPosition\n",
    "robot.attach_primitive(StandPosition(robot),\"stand\")"
   ]
  },
  {
   "cell_type": "code",
   "execution_count": null,
   "metadata": {
    "collapsed": true
   },
   "outputs": [],
   "source": [
    "robot.stand.start()"
   ]
  },
  {
   "cell_type": "code",
   "execution_count": 9,
   "metadata": {
    "collapsed": true
   },
   "outputs": [],
   "source": [
    "robot.sit.stop();"
   ]
  }
 ],
 "metadata": {
  "kernelspec": {
   "display_name": "Python 2",
   "language": "python",
   "name": "python2"
  },
  "language_info": {
   "codemirror_mode": {
    "name": "ipython",
    "version": 2
   },
   "file_extension": ".py",
   "mimetype": "text/x-python",
   "name": "python",
   "nbconvert_exporter": "python",
   "pygments_lexer": "ipython2",
   "version": "2.7.6"
  }
 },
 "nbformat": 4,
 "nbformat_minor": 0
}
