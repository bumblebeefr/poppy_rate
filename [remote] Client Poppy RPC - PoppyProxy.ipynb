{
 "cells": [
  {
   "cell_type": "markdown",
   "metadata": {
    "collapsed": true
   },
   "source": [
    "#Test d'utilisation d'un poppy \"proxyfié\" à distance\n",
    "\n",
    "Creation d'un objet de type PoppyHumanoïd, proxy vers un autre Objet PoppyHumanoïd distant.\n"
   ]
  },
  {
   "cell_type": "markdown",
   "metadata": {},
   "source": [
    "##Instanciation du poppy proxy \"client\"\n",
    "Utilisation de la classe : [RobotClient](https://github.com/poppy-project/pypot/blob/master/pypot/robot/remote.py)"
   ]
  },
  {
   "cell_type": "code",
   "execution_count": null,
   "metadata": {
    "collapsed": false,
    "scrolled": true
   },
   "outputs": [],
   "source": [
    "from pypot.robot.remote import RemoteRobotClient\n",
    "remote_robot = RemoteRobotClient('127.0.0.1',4241)"
   ]
  },
  {
   "cell_type": "markdown",
   "metadata": {},
   "source": [
    "## On affiche la position des moteur pour tester"
   ]
  },
  {
   "cell_type": "code",
   "execution_count": null,
   "metadata": {
    "collapsed": false
   },
   "outputs": [],
   "source": [
    "for m in remote_robot:\n",
    "   print(\"%s : %s\" % (m.name, m.present_temperature))"
   ]
  }
 ],
 "metadata": {
  "kernelspec": {
   "display_name": "Python 2",
   "language": "python",
   "name": "python2"
  },
  "language_info": {
   "codemirror_mode": {
    "name": "ipython",
    "version": 2
   },
   "file_extension": ".py",
   "mimetype": "text/x-python",
   "name": "python",
   "nbconvert_exporter": "python",
   "pygments_lexer": "ipython2",
   "version": "2.7.6"
  }
 },
 "nbformat": 4,
 "nbformat_minor": 0
}
