{
 "cells": [
  {
   "cell_type": "markdown",
   "metadata": {},
   "source": [
    "## Test d'utilisation d'un poppy \"proxyfié\" à distance\n",
    "\n",
    "Creation d'un objet de type PoppyHumanoïd mais qui est en fait un proxy vers le vrai Objet PoppyHumanoïde distant.\n",
    "\n",
    "[Voir le serveur](/notebooks/[remote] Serveur Poppy RPC.ipynb)"
   ]
  },
  {
   "cell_type": "markdown",
   "metadata": {},
   "source": [
    "##Instanciation du poppy proxy \"client\""
   ]
  },
  {
   "cell_type": "markdown",
   "metadata": {},
   "source": [
    "### En utilisant from_remote()\n",
    "inspiré du notebook [robot-client](http://nbviewer.ipython.org/github/poppy-project/pypot/blob/master/samples/notebooks/robot-client.ipynb)"
   ]
  },
  {
   "cell_type": "code",
   "execution_count": null,
   "metadata": {
    "collapsed": true
   },
   "outputs": [],
   "source": [
    "from pypot.robot import from_remote\n",
    "remote_robot = from_remote('127.0.0.1',4242)"
   ]
  },
  {
   "cell_type": "markdown",
   "metadata": {},
   "source": [
    "###En intanciant directement une objet RemoteRobotClient\n",
    "Semble faire la meme chose qu'au dessus en l'etat actuel : [RobotClient](https://github.com/poppy-project/pypot/blob/master/pypot/robot/remote.py)"
   ]
  },
  {
   "cell_type": "code",
   "execution_count": null,
   "metadata": {
    "collapsed": true
   },
   "outputs": [],
   "source": [
    "from pypot.robot.remote import RemoteRobotClient\n",
    "remote_robot = RemoteRobotClient('127.0.0.1',4242)"
   ]
  },
  {
   "cell_type": "markdown",
   "metadata": {},
   "source": [
    "## On affiche la position des moteur pour tester"
   ]
  },
  {
   "cell_type": "code",
   "execution_count": null,
   "metadata": {
    "collapsed": false
   },
   "outputs": [],
   "source": [
    "for m in remote_robot:\n",
    "   print(\"%s : %s\" % (m.name, m.present_position))"
   ]
  }
 ],
 "metadata": {
  "kernelspec": {
   "display_name": "Python 2",
   "language": "python",
   "name": "python2"
  },
  "language_info": {
   "codemirror_mode": {
    "name": "ipython",
    "version": 2
   },
   "file_extension": ".py",
   "mimetype": "text/x-python",
   "name": "python",
   "nbconvert_exporter": "python",
   "pygments_lexer": "ipython2",
   "version": "2.7.6"
  }
 },
 "nbformat": 4,
 "nbformat_minor": 0
}
