{
 "cells": [
  {
   "cell_type": "markdown",
   "metadata": {},
   "source": [
    "#Poppy Web Service\n",
    "Demarrage d'un web service poppy avec [HTTPRobotServer](https://github.com/poppy-project/pypot/blob/master/pypot/server/httpserver.py)"
   ]
  },
  {
   "cell_type": "code",
   "execution_count": null,
   "metadata": {
    "collapsed": true
   },
   "outputs": [],
   "source": [
    "#imports and initilaize virutal poppy using vrep\n",
    "from pypot.vrep import from_vrep\n",
    "from poppy.creatures import PoppyHumanoid\n",
    "robot = PoppyHumanoid(simulator='vrep')"
   ]
  },
  {
   "cell_type": "code",
   "execution_count": null,
   "metadata": {
    "collapsed": true
   },
   "outputs": [],
   "source": [
    "#import and initialize physical poppy\n",
    "from poppy.creatures import PoppyHumanoid\n",
    "robot = PoppyHumanoid()"
   ]
  },
  {
   "cell_type": "code",
   "execution_count": null,
   "metadata": {
    "collapsed": false
   },
   "outputs": [],
   "source": [
    "from pypot.server import HTTPRobotServer\n",
    "server = HTTPRobotServer(robot,'127.0.0.1',8081)"
   ]
  },
  {
   "cell_type": "markdown",
   "metadata": {},
   "source": [
    "http://127.0.0.1:8081/motor/list.json\n",
    "\n",
    "Version modifiée de HTTPRobotServer donnant la possibilité d'utiliser les headers CORS pour tapper sur le service web en ajax d'où l'on veu : "
   ]
  },
  {
   "cell_type": "code",
   "execution_count": null,
   "metadata": {
    "collapsed": false
   },
   "outputs": [],
   "source": [
    "import json\n",
    "import numpy\n",
    "import bottle\n",
    "import logging\n",
    "from bottle import response\n",
    "\n",
    "from pypot.server.server import AbstractServer\n",
    "\n",
    "\n",
    "logger = logging.getLogger(__name__)\n",
    "\n",
    "\n",
    "class MyJSONEncoder(json.JSONEncoder):\n",
    "    \"\"\" JSONEncoder which tries to call a json property before using the enconding default function. \"\"\"\n",
    "    def default(self, obj):\n",
    "        if isinstance(obj, numpy.ndarray):\n",
    "            return list(obj)\n",
    "\n",
    "        return json.JSONEncoder.default(self, obj)\n",
    "\n",
    "\n",
    "class EnableCors(object):\n",
    "    \"\"\"Enable CORS (Cross-Origin Resource Sharing) headers\"\"\"\n",
    "    name = 'enable_cors'\n",
    "    api = 2\n",
    "    \n",
    "    def __init__(self,origin=\"*\"):\n",
    "        self.origin = origin\n",
    "\n",
    "    def apply(self, fn, context):\n",
    "        def _enable_cors(*args, **kwargs):\n",
    "            # set CORS headers\n",
    "            response.headers['Access-Control-Allow-Origin'] = self.origin\n",
    "            response.headers['Access-Control-Allow-Methods'] = 'GET, POST, PUT, OPTIONS'\n",
    "            response.headers['Access-Control-Allow-Headers'] = 'Origin, Accept, Content-Type, X-Requested-With, X-CSRF-Token'\n",
    "\n",
    "            if bottle.request.method != 'OPTIONS':\n",
    "                # actual request; reply with the actual response\n",
    "                return fn(*args, **kwargs)\n",
    "\n",
    "        return _enable_cors\n",
    "    \n",
    "    \n",
    "class HTTPRobotServer(AbstractServer):\n",
    "    \"\"\" Bottle based HTTPServer used to remote access a robot.\n",
    "\n",
    "        Please refer to the REST API for an exhaustive list of the possible routes.\n",
    "\n",
    "     \"\"\"\n",
    "    def __init__(self, robot, host, port, cross_domain_origin=None):\n",
    "        AbstractServer.__init__(self, robot, host, port)\n",
    "\n",
    "        self.app = bottle.Bottle()\n",
    "\n",
    "        jd = lambda s: json.dumps(s, cls=MyJSONEncoder)\n",
    "        self.app.install(bottle.JSONPlugin(json_dumps=jd))\n",
    "        \n",
    "        if(cross_domain_origin):\n",
    "            self.app.install(EnableCors(cross_domain_origin))\n",
    "\n",
    "        rr = self.restfull_robot\n",
    "\n",
    "        # Motors route\n",
    "\n",
    "        @self.app.get('/motor/list.json')\n",
    "        @self.app.get('/motor/<alias>/list.json')\n",
    "        def get_motor_list(alias='motors'):\n",
    "            return {\n",
    "                alias: rr.get_motors_list(alias)\n",
    "            }\n",
    "\n",
    "        @self.app.get('/sensor/list.json')\n",
    "        def get_sensor_list():\n",
    "            return {\n",
    "                'sensors': rr.get_sensors_list()\n",
    "            }\n",
    "\n",
    "        @self.app.get('/motor/alias/list.json')\n",
    "        def get_motor_alias():\n",
    "            return {\n",
    "                'alias': rr.get_motors_alias()\n",
    "            }\n",
    "\n",
    "        @self.app.get('/motor/<motor_name>/register/list.json')\n",
    "        @self.app.get('/sensor/<motor_name>/register/list.json')\n",
    "        def get_motor_registers(motor_name):\n",
    "            return {\n",
    "                'registers': rr.get_motor_registers_list(motor_name)\n",
    "            }\n",
    "\n",
    "        @self.app.get('/motor/<motor_name>/register/<register_name>')\n",
    "        @self.app.get('/sensor/<motor_name>/register/<register_name>')\n",
    "        def get_register_value(motor_name, register_name):\n",
    "            return {\n",
    "                register_name: rr.get_motor_register_value(motor_name, register_name)\n",
    "            }\n",
    "\n",
    "        @self.app.post('/motor/<motor_name>/register/<register_name>/value.json')\n",
    "        @self.app.post('/sensor/<motor_name>/register/<register_name>/value.json')\n",
    "        def set_register_value(motor_name, register_name):\n",
    "            rr.set_motor_register_value(motor_name, register_name,\n",
    "                                        bottle.request.json)\n",
    "            return {}\n",
    "\n",
    "        # Sensors route\n",
    "\n",
    "        # Primitives route\n",
    "        @self.app.get('/primitive/list.json')\n",
    "        def get_primitives_list(self):\n",
    "            return {\n",
    "                'primitives': rr.get_primitives_list()\n",
    "            }\n",
    "\n",
    "        @self.app.get('/primitive/running/list.json')\n",
    "        def get_running_primitives_list(self):\n",
    "            return {\n",
    "                'running_primitives': rr.get_running_primitives_list()\n",
    "            }\n",
    "\n",
    "        @self.app.get('/primitive/<prim>/start.json')\n",
    "        def start_primitive(self, prim):\n",
    "            rr.start_primitive(prim)\n",
    "\n",
    "        @self.app.get('/primitive/<prim>/stop.json')\n",
    "        def stop_primitive(self, prim):\n",
    "            rr.stop_primitive(prim)\n",
    "\n",
    "        @self.app.get('/primitive/<prim>/pause.json')\n",
    "        def pause_primitive(self, prim):\n",
    "            rr.pause_primitive(prim)\n",
    "\n",
    "        @self.app.get('/primitive/<prim>/resume.json')\n",
    "        def resume_primitive(self, prim):\n",
    "            rr.resume_primitive(prim)\n",
    "\n",
    "        @self.app.get('/primitive/<prim>/property/list.json')\n",
    "        def get_primitive_properties_list(self, prim):\n",
    "            return {\n",
    "                'property': rr.get_primitive_properties_list(prim)\n",
    "            }\n",
    "\n",
    "        @self.app.get('/primitive/<prim>/property/<prop>')\n",
    "        def get_primitive_property(self, prim, prop):\n",
    "            res = rr.get_primitive_property(prim, prop)\n",
    "            return {\n",
    "                '{}.{}'.format(prim, prop): res\n",
    "            }\n",
    "\n",
    "        @self.app.post('/primitive/<prim>/property/<prop>/value.json')\n",
    "        def set_primitive_property(self, prim, prop):\n",
    "            rr.set_primitive_property(prim, prop,\n",
    "                                      bottle.request.json)\n",
    "\n",
    "        @self.app.get('/primitive/<prim>/method/list.json')\n",
    "        def get_primitive_methods_list(self, prim):\n",
    "            return {\n",
    "                'methods': rr.get_primitive_methods_list(self, prim)\n",
    "            }\n",
    "\n",
    "        @self.app.post('/primitive/<prim>/method/<meth>/args.json')\n",
    "        def call_primitive_method(self, prim, meth):\n",
    "            res = rr.call_primitive_method(prim, meth,\n",
    "                                           bottle.request.json)\n",
    "            return {\n",
    "                '{}:{}'.format(prim, meth): res\n",
    "            }\n",
    "\n",
    "    def run(self, quiet=False, server='tornado'):\n",
    "        \"\"\" Start the bottle server, run forever. \"\"\"\n",
    "        bottle.run(self.app,\n",
    "                   host=self.host, port=self.port,\n",
    "                   quiet=quiet,\n",
    "                   server=server)\n",
    "\n",
    "\n",
    "server = HTTPRobotServer(robot,'127.0.0.1',8082,cross_domain_origin='*')"
   ]
  },
  {
   "cell_type": "markdown",
   "metadata": {},
   "source": [
    "Lancement du serveur :\n",
    "\n",
    "*Dans ipython notebook le lancement du serveur genere une erreur **IOLoop is already running**, probablement due au fait que tornadoest deja lancé puisqu'il fait tourner le notebook. Le serveur est tout de meme lancé pour le couper il suffit de redemarer le kenel. Cette erreur n'a pas lieu lorsque l'on est dans un script ou dans ipython en console.*"
   ]
  },
  {
   "cell_type": "code",
   "execution_count": null,
   "metadata": {
    "collapsed": false
   },
   "outputs": [],
   "source": [
    "try:\n",
    "    server.run()\n",
    "except RuntimeError as e:\n",
    "    print(e)"
   ]
  },
  {
   "cell_type": "markdown",
   "metadata": {},
   "source": [
    "Le script [start_servers.py](/edit/start_servers.py) crée une instance de poppy, puis de lance un serveur WEB/REST (HTTPRobotServer) ainsi qu'un serveur RPC (RobotServer) en tache de fond dans des thread. "
   ]
  },
  {
   "cell_type": "code",
   "execution_count": null,
   "metadata": {
    "collapsed": true
   },
   "outputs": [],
   "source": [
    "robot.stand_position.start()"
   ]
  },
  {
   "cell_type": "code",
   "execution_count": null,
   "metadata": {
    "collapsed": false
   },
   "outputs": [],
   "source": [
    "robot.compliant = True"
   ]
  }
 ],
 "metadata": {
  "kernelspec": {
   "display_name": "Python 2",
   "language": "python",
   "name": "python2"
  },
  "language_info": {
   "codemirror_mode": {
    "name": "ipython",
    "version": 2
   },
   "file_extension": ".py",
   "mimetype": "text/x-python",
   "name": "python",
   "nbconvert_exporter": "python",
   "pygments_lexer": "ipython2",
   "version": "2.7.6"
  }
 },
 "nbformat": 4,
 "nbformat_minor": 0
}
